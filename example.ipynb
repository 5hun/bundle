{
 "cells": [
  {
   "cell_type": "markdown",
   "metadata": {},
   "source": [
    "# Example usage\n",
    "\n",
    "Consider the following problem:\n",
    "\n",
    "$$\n",
    "\\begin{align*}\n",
    "\\text{minimize} & & x_1 + x_2 + \\max (0, x_1^2 + x_2^2 - 4), \\\\\n",
    "\\text{s.t.} & & -5 \\le x_1 \\le 5, -5 \\le x_2 \\le 5.\n",
    "\\end{align*}\n",
    "$$\n",
    "\n",
    "The problem is based on Example 7.1 of [Andrzej Ruszczyński's 'Nonlinear Optimization'](https://press.princeton.edu/books/hardcover/9780691119151/nonlinear-optimization).\n",
    "\n",
    "Solve the problem by the proximal bundle method."
   ]
  },
  {
   "cell_type": "code",
   "execution_count": 1,
   "metadata": {},
   "outputs": [],
   "source": [
    "import numpy as np\n",
    "\n",
    "def f(x: np.ndarray):\n",
    "    r\"\"\"Calculate objective value and subgradient vector\"\"\"\n",
    "    v = x[0] ** 2 + x[1] ** 2 - 4\n",
    "    obj = x[0] + x[1] + max(0, v)\n",
    "    if v > 0:\n",
    "        g = np.array([1 + 2 * x[0], 1 + 2 * x[1]], dtype=np.float)\n",
    "    else:\n",
    "        g = np.array([1, 1])\n",
    "    return obj, g\n"
   ]
  },
  {
   "cell_type": "code",
   "execution_count": 2,
   "metadata": {},
   "outputs": [
    {
     "name": "stdout",
     "output_type": "stream",
     "text": [
      "0 [ 2. -2.] 4.0\n",
      "1 [-3.  1.] 3.999999999999994\n",
      "2 [-0.5 -0.5] -1.0\n",
      "3 [ 0.5 -2.5] 0.5000000000000013\n",
      "4 [-0.75 -2.25] -1.375\n",
      "5 [-1.24166667 -1.725     ] -2.449305555555557\n",
      "6 [-1.35513003 -1.49336856] -2.7819715336493314\n",
      "7 [-1.39481123 -1.43508642] -2.8249262463433364\n",
      "8 [-1.40837719 -1.42016909] -2.8281397208796584\n",
      "9 [-1.41249182 -1.41594549] -2.828402539864622\n",
      "10 [-1.41518487 -1.41326074] -2.8283914730141833\n",
      "11 [-1.41405397 -1.41438172] -2.8284114083026886\n",
      "12 [-1.4152527  -1.41318373] -2.8284079878455497\n",
      "13 [-1.41486466 -1.41356912] -2.828414117182251\n",
      "14 [-1.41546281 -1.41297054] -2.8284126506044105\n",
      "15 [-1.4152505  -1.41318163] -2.828415829945838\n",
      "16 [-1.41549608 -1.41293546] -2.828415783176273\n",
      "17 [-1.41536737 -1.41306351] -2.8284175958852336\n",
      "18 [-1.41539081 -1.41303961] -2.8284183418771613\n",
      "19 [-1.4153363  -1.41309374] -2.82841929085044\n"
     ]
    }
   ],
   "source": [
    "from bundle import ProximalBundleMethod as PBM\n",
    "\n",
    "p = PBM(\n",
    "    n=2,        # dimension of x\n",
    "    sense=min   # This problem is minimization.\n",
    ")\n",
    "\n",
    "p.custom_constraints = [p.x >= -5, p.x <= 5]\n",
    "\n",
    "# initial guess\n",
    "x = np.array([2, - 2], dtype=np.float)\n",
    "\n",
    "for i in range(20):\n",
    "    obj, g = f(x)\n",
    "    print(i, x, obj)\n",
    "    x = p.step(obj, x, g)"
   ]
  },
  {
   "cell_type": "code",
   "execution_count": null,
   "metadata": {},
   "outputs": [],
   "source": []
  }
 ],
 "metadata": {
  "kernelspec": {
   "display_name": "Python 3",
   "language": "python",
   "name": "python3"
  },
  "language_info": {
   "codemirror_mode": {
    "name": "ipython",
    "version": 3
   },
   "file_extension": ".py",
   "mimetype": "text/x-python",
   "name": "python",
   "nbconvert_exporter": "python",
   "pygments_lexer": "ipython3",
   "version": "3.7.6"
  }
 },
 "nbformat": 4,
 "nbformat_minor": 4
}
